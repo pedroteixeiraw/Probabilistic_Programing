{
 "cells": [
  {
   "cell_type": "markdown",
   "metadata": {},
   "source": [
    "# Python Stack Review\n",
    "Python is a great general-purpose programming language on its own, but with the help of a few popular libraries (numpy, scipy, matplotlib) it becomes a powerful environment for scientific computing.\n",
    "\n",
    "Python tutorial https://docs.python.org/3/tutorial/\n",
    "\n",
    "## Topics:\n"
   ]
  },
  {
   "cell_type": "code",
   "execution_count": 3,
   "metadata": {},
   "outputs": [
    {
     "name": "stdout",
     "output_type": "stream",
     "text": [
      "4\n"
     ]
    }
   ],
   "source": [
    "# Lambda function\n",
    "# <funtion name> <arg1>, <arg2>, ... = <function expression>\n",
    "f = lambda x: x ** 2\n",
    "print(f(2))"
   ]
  },
  {
   "cell_type": "markdown",
   "metadata": {},
   "source": [
    "### Numpy librarie\n",
    "Documentation - https://numpy.org/doc/stable/user/index.html#user\n",
    "\n",
    "Quickstart - https://numpy.org/doc/stable/user/quickstart.html"
   ]
  },
  {
   "cell_type": "code",
   "execution_count": 4,
   "metadata": {},
   "outputs": [],
   "source": [
    "import numpy as np"
   ]
  },
  {
   "cell_type": "code",
   "execution_count": null,
   "metadata": {},
   "outputs": [
    {
     "name": "stdout",
     "output_type": "stream",
     "text": [
      "[[3 2 4 3 2 6]\n",
      " [3 2 2 5 5 3]\n",
      " [2 2 6 3 4 3]]\n",
      "\n",
      "[[163.97 179.12 168.47 176.45 178.64 190.77]\n",
      " [179.35 173.34 176.77 173.93 188.18 190.16]\n",
      " [193.24 182.66 175.92 158.18 157.96 149.27]]\n",
      "\n",
      "[[163.97 179.35 193.24]\n",
      " [179.12 173.34 182.66]\n",
      " [168.47 176.77 175.92]\n",
      " [176.45 173.93 158.18]\n",
      " [178.64 188.18 157.96]\n",
      " [190.77 190.16 149.27]]\n",
      "\n",
      "[163.97 179.12 168.47 176.45 178.64 190.77 179.35 173.34 176.77 173.93\n",
      " 188.18 190.16 193.24 182.66 175.92 158.18 157.96 149.27]\n",
      "\n",
      "\n"
     ]
    }
   ],
   "source": [
    "# 3 rolls of 20 dice\n",
    "dados = np.random.multinomial(20, [1/6.]*6, size=3)\n",
    "alturas = np.random.normal(180, 15, size = (3,6))\n",
    "np.set_printoptions(precision=2)\n",
    "print(dados, alturas, alturas.T, alturas.ravel(), \"\", sep = \"\\n\\n\")"
   ]
  },
  {
   "cell_type": "markdown",
   "metadata": {},
   "source": [
    "### Numpy librarie\n",
    "Documentation - https://numpy.org/doc/stable/user/index.html#user\n",
    "\n",
    "Quickstart - https://numpy.org/doc/stable/user/quickstart.html"
   ]
  },
  {
   "cell_type": "markdown",
   "metadata": {},
   "source": [
    "## References:\n",
    "https://cs231n.github.io/python-numpy-tutorial/"
   ]
  },
  {
   "cell_type": "markdown",
   "metadata": {},
   "source": []
  }
 ],
 "metadata": {
  "kernelspec": {
   "display_name": "Python 3",
   "language": "python",
   "name": "python3"
  },
  "language_info": {
   "codemirror_mode": {
    "name": "ipython",
    "version": 3
   },
   "file_extension": ".py",
   "mimetype": "text/x-python",
   "name": "python",
   "nbconvert_exporter": "python",
   "pygments_lexer": "ipython3",
   "version": "3.11.9"
  }
 },
 "nbformat": 4,
 "nbformat_minor": 2
}
